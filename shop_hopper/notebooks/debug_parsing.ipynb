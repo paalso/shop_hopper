{
 "cells": [
  {
   "cell_type": "code",
   "execution_count": 1,
   "id": "0d3c6ee7-efa4-4df8-8d48-6ee11eda2bac",
   "metadata": {},
   "outputs": [],
   "source": [
    "from bs4 import BeautifulSoup\n",
    "from urllib.parse import urlparse, urljoin\n",
    "import requests\n",
    "import re"
   ]
  },
  {
   "cell_type": "code",
   "execution_count": 35,
   "id": "f780aa0c-f168-4d64-be86-79a75d032518",
   "metadata": {},
   "outputs": [],
   "source": [
    "query = 'https://www.olx.ua:443/uk/hobbi-otdyh-i-sport/knigi-zhurnaly/q-%D1%87%D0%B0%D0%BB%D0%B8%D0%B9-%D1%81%D1%82%D0%BE-%D0%BF%D1%80%D0%B8%D0%B3%D0%BE%D0%B4/' "
   ]
  },
  {
   "cell_type": "code",
   "execution_count": 4,
   "id": "37c00b16-32c0-4053-941e-8ede7e9b459a",
   "metadata": {},
   "outputs": [],
   "source": [
    "response = requests.get(query)"
   ]
  },
  {
   "cell_type": "code",
   "execution_count": 6,
   "id": "38f1653c-7b4e-4356-9e32-4204834e29b8",
   "metadata": {},
   "outputs": [],
   "source": [
    "html = response.text"
   ]
  },
  {
   "cell_type": "code",
   "execution_count": 7,
   "id": "69cd2d2c-98af-420f-87d6-c5b70a4c6b84",
   "metadata": {},
   "outputs": [],
   "source": [
    "soup = BeautifulSoup(html, 'html.parser')"
   ]
  },
  {
   "cell_type": "code",
   "execution_count": 8,
   "id": "d7106c56-99cf-404a-abcf-3cf7c253a9c4",
   "metadata": {},
   "outputs": [],
   "source": [
    "# soup"
   ]
  },
  {
   "cell_type": "code",
   "execution_count": 9,
   "id": "fda6c916-3322-4524-aaf1-316f7beff488",
   "metadata": {},
   "outputs": [],
   "source": [
    "INT_NUMBER_REGEX = re.compile(r'\\d+')\n",
    "OFFER_SELECTOR = '.css-qfzx1y'"
   ]
  },
  {
   "cell_type": "code",
   "execution_count": 10,
   "id": "c230e91b-bc08-415f-ad92-19c7117a12d3",
   "metadata": {},
   "outputs": [],
   "source": [
    "OFFER_SELECTOR = '.css-j0t2x2'"
   ]
  },
  {
   "cell_type": "code",
   "execution_count": 37,
   "id": "a2203e46-b3a5-4ae3-9060-4996bca7b64a",
   "metadata": {},
   "outputs": [],
   "source": [
    "offers = soup.select(OFFER_SELECTOR)"
   ]
  },
  {
   "cell_type": "code",
   "execution_count": 39,
   "id": "6a8ac544-984f-42f5-a459-8ed2b8d4bdc7",
   "metadata": {},
   "outputs": [],
   "source": [
    "valid_offers_count_element = (soup.select_one('[data-testid=\"total-count\"]'))"
   ]
  },
  {
   "cell_type": "code",
   "execution_count": 41,
   "id": "a0d743bc-01ec-41fe-ad75-5545d5bcbd1d",
   "metadata": {},
   "outputs": [
    {
     "data": {
      "text/plain": [
       "<span data-testid=\"total-count\">Ми знайшли  6 оголошень</span>"
      ]
     },
     "execution_count": 41,
     "metadata": {},
     "output_type": "execute_result"
    }
   ],
   "source": [
    "valid_offers_count_element"
   ]
  },
  {
   "cell_type": "code",
   "execution_count": 43,
   "id": "9e2a377c-9f5c-489b-b693-7bedeee947cc",
   "metadata": {},
   "outputs": [
    {
     "data": {
      "text/plain": [
       "6"
      ]
     },
     "execution_count": 43,
     "metadata": {},
     "output_type": "execute_result"
    }
   ],
   "source": [
    "valid_offers_number = int(INT_NUMBER_REGEX.search(valid_offers_count_element.getText()).group(0))\n",
    "valid_offers_number"
   ]
  },
  {
   "cell_type": "code",
   "execution_count": 24,
   "id": "7d8c84e8-9e4b-4aab-a829-653088cbf69b",
   "metadata": {},
   "outputs": [],
   "source": [
    "valid_offers = offers[:valid_offers_number]"
   ]
  },
  {
   "cell_type": "code",
   "execution_count": 27,
   "id": "60317201-d377-48cd-b78c-0672ba0cbf18",
   "metadata": {},
   "outputs": [
    {
     "data": {
      "text/plain": [
       "1"
      ]
     },
     "execution_count": 27,
     "metadata": {},
     "output_type": "execute_result"
    }
   ],
   "source": [
    "len(valid_offers)"
   ]
  },
  {
   "cell_type": "code",
   "execution_count": 73,
   "id": "a2b9f8d5-3425-4629-be12-2f977d3cb425",
   "metadata": {},
   "outputs": [
    {
     "data": {
      "text/plain": [
       "[<div class=\"css-j0t2x2\" data-testid=\"listing-grid\"><div class=\"\" data-testid=\"qa-advert-slot\" id=\"div-gpt-ad-listing-sponsored-ad-first\"></div><style data-emotion=\"css 1sw7q4x\">.css-1sw7q4x{height:100%;}</style><div class=\"css-1sw7q4x\" data-cy=\"l-card\" data-testid=\"l-card\" data-visually-ready-trigger-element=\"true\" id=\"847082304\"><style data-emotion=\"css 1r93q13\">.css-1r93q13{height:100%;padding:8px;background:#FFFFFF;}</style><div class=\"css-1r93q13\"><style data-emotion=\"css 1g5933j\">.css-1g5933j{display:-webkit-box;display:-webkit-flex;display:-ms-flexbox;display:flex;height:100%;-webkit-flex-direction:row;-ms-flex-direction:row;flex-direction:row;overflow:hidden;border-top-right-radius:4px;border-bottom-right-radius:4px;}</style><div class=\"css-1g5933j\" type=\"list\"><style data-emotion=\"css 1ut25fa\">.css-1ut25fa{-webkit-flex-shrink:0;-ms-flex-negative:0;flex-shrink:0;max-width:45%;width:216px;position:relative;}</style><div class=\"css-1ut25fa\" type=\"list\"><style data-emotion=\"css 1tqlkj0\">.css-1tqlkj0{-webkit-text-decoration:none;text-decoration:none;height:100%;-webkit-box-flex:1;-webkit-flex-grow:1;-ms-flex-positive:1;flex-grow:1;color:unset;}.css-1tqlkj0::after{content:'';position:absolute;top:0;left:0;bottom:0;right:0;}.css-1tqlkj0:hover h6{color:#FFFFFF;background-color:#02282C;}.css-1tqlkj0 img{overflow-clip-margin:unset;}</style><a class=\"css-1tqlkj0\" href=\"/d/uk/obyavlenie/b-chaliy-sto-prigod-barvnka-romashki-1976-IDWkgNO.html\"><style data-emotion=\"css x7ghln\">.css-x7ghln{background-color:#eceeef;box-sizing:border-box;overflow:hidden;position:relative;height:100%;padding-top:0;border-top-left-radius:4px;border-bottom-left-radius:4px;}</style><div class=\"css-x7ghln\" type=\"list\"><style data-emotion=\"css gl6djm\">.css-gl6djm{-webkit-align-items:center;-webkit-box-align:center;-ms-flex-align:center;align-items:center;bottom:0;display:-webkit-box;display:-webkit-flex;display:-ms-flexbox;display:flex;-webkit-box-pack:center;-ms-flex-pack:center;-webkit-justify-content:center;justify-content:center;left:0;position:absolute;right:0;top:0;}</style><div class=\"css-gl6djm\"><style data-emotion=\"css 8wsg1m\">.css-8wsg1m{object-fit:cover;-webkit-transition:opacity undefinedms ease-in-out;transition:opacity undefinedms ease-in-out;opacity:1;width:100%;height:100%;}</style><img alt=\"Б. Чалий Сто пригод Барвінка і Ромашки 1976\" class=\"css-8wsg1m\" sizes=\"216px\" src=\"https://ireland.apollo.olxcdn.com:443/v1/files/uvgj1z8sn0g9-UA/image;s=216x152;q=50\" srcset=\"https://ireland.apollo.olxcdn.com:443/v1/files/uvgj1z8sn0g9-UA/image;s=150x200;q=50 150w, https://ireland.apollo.olxcdn.com:443/v1/files/uvgj1z8sn0g9-UA/image;s=200x267;q=50 200w, https://ireland.apollo.olxcdn.com:443/v1/files/uvgj1z8sn0g9-UA/image;s=270x360;q=50 300w, https://ireland.apollo.olxcdn.com:443/v1/files/uvgj1z8sn0g9-UA/image;s=360x480;q=50 400w, https://ireland.apollo.olxcdn.com:443/v1/files/uvgj1z8sn0g9-UA/image;s=510x680;q=50 600w\"/></div></div><style data-emotion=\"css 13aawz3\">.css-13aawz3{bottom:0;display:-webkit-box;display:-webkit-flex;display:-ms-flexbox;display:flex;-webkit-flex-direction:column-reverse;-ms-flex-direction:column-reverse;flex-direction:column-reverse;height:100%;-webkit-box-pack:justify;-webkit-justify-content:space-between;justify-content:space-between;left:0;position:absolute;width:100%;}</style><div class=\"css-13aawz3\"><style data-emotion=\"css 1av34ht\">.css-1av34ht{width:100%;height:100%;display:-webkit-box;display:-webkit-flex;display:-ms-flexbox;display:flex;-webkit-flex-direction:column-reverse;-ms-flex-direction:column-reverse;flex-direction:column-reverse;-webkit-box-pack:justify;-webkit-justify-content:space-between;justify-content:space-between;}</style><div class=\"css-1av34ht\"><style data-emotion=\"css 3xiokn\">.css-3xiokn{display:-webkit-box;display:-webkit-flex;display:-ms-flexbox;display:flex;-webkit-flex-direction:row;-ms-flex-direction:row;flex-direction:row;-webkit-box-pack:justify;-webkit-justify-content:space-between;justify-content:space-between;width:100%;z-index:10;}</style><div class=\"css-3xiokn\"><style data-emotion=\"css 1n0ukvk\">.css-1n0ukvk{position:absolute;margin-left:auto;margin-right:8px;top:8px;right:0;padding:0;}.css-1n0ukvk >div{margin:0;}</style><style data-emotion=\"css 10od1sw\">.css-10od1sw{--bgColor:#F2F4F5;--numberColor:#02282C;--height:24px;-webkit-align-items:center;-webkit-box-align:center;-ms-flex-align:center;align-items:center;background:var(--bgColor);border-radius:18px;box-sizing:border-box;color:var(--numberColor);display:-webkit-box;display:-webkit-flex;display:-ms-flexbox;display:flex;-webkit-flex-direction:row;-ms-flex-direction:row;flex-direction:row;font-size:12px;height:var(--height);-webkit-box-pack:center;-ms-flex-pack:center;-webkit-justify-content:center;justify-content:center;letter-spacing:0.8px;line-height:1;min-width:var(--height);padding:4px 8px;-webkit-user-select:none;-moz-user-select:none;-ms-user-select:none;user-select:none;position:absolute;margin-left:auto;margin-right:8px;top:8px;right:0;padding:0;}.css-10od1sw svg{color:var(--textColor);display:block;}.css-10od1sw >div{margin:0;}</style><div class=\"css-10od1sw\" data-testid=\"card-delivery-badge\"><style data-emotion=\"css 14xvpcy\">.css-14xvpcy{margin-right:8px;}</style><div class=\"css-14xvpcy\"><style data-emotion=\"css 1c9plgj\">.css-1c9plgj{height:16px;width:16px;color:#02282C;}</style><svg class=\"css-1c9plgj\" fill=\"none\" height=\"1em\" viewbox=\"0 0 24 24\" width=\"1em\" xmlns=\"http://www.w3.org/2000/svg\"><path clip-rule=\"evenodd\" d=\"m2 4 1-1h10l2 2h3.5L22 9.667V17l-1 1h-2a3 3 0 1 1-6 0h-3a3 3 0 1 1-6 0H3l-1-1V4Zm7.236 12h4.528c.55-.614 1.348-1 2.236-1 .889 0 1.687.386 2.236 1H20v-4h-6l-1-1V6l-1-1H4v11h.764c.55-.614 1.348-1 2.236-1 .888 0 1.687.386 2.236 1ZM15 18a1 1 0 1 0 2 0 1 1 0 0 0-2 0Zm4.75-8L17.5 7H15v3h4.75ZM8 18a1 1 0 1 1-2 0 1 1 0 0 1 2 0Z\" fill=\"currentColor\" fill-rule=\"evenodd\"></path></svg></div></div></div></div></div></a></div><style data-emotion=\"css 1apmciz\">.css-1apmciz{background-color:#FFFFFF;display:-webkit-box;display:-webkit-flex;display:-ms-flexbox;display:flex;-webkit-flex-direction:column;-ms-flex-direction:column;flex-direction:column;min-height:112px;position:relative;word-break:break-word;-webkit-flex:1;-ms-flex:1;flex:1;min-height:128px;overflow:hidden;padding-left:10px;}</style><div class=\"css-1apmciz\" type=\"list\"><style data-emotion=\"css u2ayx9\">.css-u2ayx9{display:-webkit-box;display:-webkit-flex;display:-ms-flexbox;display:flex;-webkit-box-pack:justify;-webkit-justify-content:space-between;justify-content:space-between;}</style><div class=\"css-u2ayx9\" data-cy=\"ad-card-title\"><a class=\"css-1tqlkj0\" href=\"/d/uk/obyavlenie/b-chaliy-sto-prigod-barvnka-romashki-1976-IDWkgNO.html\"><style data-emotion=\"css 1sv1kgy\">.css-1sv1kgy{-webkit-box-orient:vertical;display:-webkit-box;-webkit-line-clamp:2;margin-bottom:auto;overflow:hidden;display:inline-block;margin-top:6px;font-weight:400;max-width:70%;margin-right:24px;}.css-1sv1kgy:hover{color:#FFFFFF;background-color:#02282C;}</style><style data-emotion=\"css b99qw7\">.css-b99qw7{font-size:20px;line-height:22px;margin:0 0 3px;-webkit-box-orient:vertical;display:-webkit-box;-webkit-line-clamp:2;margin-bottom:auto;overflow:hidden;display:inline-block;margin-top:6px;font-weight:400;max-width:70%;margin-right:24px;}.css-b99qw7:hover{color:#FFFFFF;background-color:#02282C;}</style><style data-emotion=\"css 1g61gc2\">.css-1g61gc2{color:#02282C;font-family:Geomanist,sans-serif;font-weight:700;-webkit-text-decoration:none;text-decoration:none;font-size:20px;line-height:22px;margin:0 0 3px;-webkit-box-orient:vertical;display:-webkit-box;-webkit-line-clamp:2;margin-bottom:auto;overflow:hidden;display:inline-block;margin-top:6px;font-weight:400;max-width:70%;margin-right:24px;}.css-1g61gc2:hover{color:#FFFFFF;background-color:#02282C;}</style><h4 class=\"css-1g61gc2\">Б. Чалий Сто пригод Барвінка і Ромашки 1976</h4></a><style data-emotion=\"css tdfmcc\">.css-tdfmcc{display:-webkit-box;display:-webkit-flex;display:-ms-flexbox;display:flex;-webkit-align-items:center;-webkit-box-align:center;-ms-flex-align:center;align-items:center;overflow:hidden;text-overflow:ellipsis;white-space:nowrap;-webkit-flex-shrink:0;-ms-flex-negative:0;flex-shrink:0;margin-top:10px;padding:0 10px;text-align:left;-webkit-box-flex-wrap:wrap;-webkit-flex-wrap:wrap;-ms-flex-wrap:wrap;flex-wrap:wrap;-webkit-box-pack:end;-ms-flex-pack:end;-webkit-justify-content:flex-end;justify-content:flex-end;}</style><style data-emotion=\"css jiryrv\">.css-jiryrv{font-size:16px;line-height:20px;margin-block-end:unset;margin-block-start:unset;display:-webkit-box;display:-webkit-flex;display:-ms-flexbox;display:flex;-webkit-align-items:center;-webkit-box-align:center;-ms-flex-align:center;align-items:center;overflow:hidden;text-overflow:ellipsis;white-space:nowrap;-webkit-flex-shrink:0;-ms-flex-negative:0;flex-shrink:0;margin-top:10px;padding:0 10px;text-align:left;-webkit-box-flex-wrap:wrap;-webkit-flex-wrap:wrap;-ms-flex-wrap:wrap;flex-wrap:wrap;-webkit-box-pack:end;-ms-flex-pack:end;-webkit-justify-content:flex-end;justify-content:flex-end;}</style><style data-emotion=\"css uj7mm0\">.css-uj7mm0{color:#02282C;font-family:Geomanist,sans-serif;font-weight:700;-webkit-text-decoration:none;text-decoration:none;font-size:16px;line-height:20px;margin-block-end:unset;margin-block-start:unset;display:-webkit-box;display:-webkit-flex;display:-ms-flexbox;display:flex;-webkit-align-items:center;-webkit-box-align:center;-ms-flex-align:center;align-items:center;overflow:hidden;text-overflow:ellipsis;white-space:nowrap;-webkit-flex-shrink:0;-ms-flex-negative:0;flex-shrink:0;margin-top:10px;padding:0 10px;text-align:left;-webkit-box-flex-wrap:wrap;-webkit-flex-wrap:wrap;-ms-flex-wrap:wrap;flex-wrap:wrap;-webkit-box-pack:end;-ms-flex-pack:end;-webkit-justify-content:flex-end;justify-content:flex-end;}</style><p class=\"css-uj7mm0\" data-testid=\"ad-price\">700 грн.<style data-emotion=\"css 16w78mv\">.css-16w78mv{color:#7F9799;font-weight:100;width:100%;text-align:right;}</style><style data-emotion=\"css nwufr3\">.css-nwufr3{font-size:12px;line-height:16px;color:#7F9799;font-weight:100;width:100%;text-align:right;}</style><style data-emotion=\"css 1hc4lz9\">.css-1hc4lz9{color:#02282C;font-family:Geomanist,sans-serif;font-weight:700;-webkit-text-decoration:none;text-decoration:none;font-size:12px;line-height:16px;color:#7F9799;font-weight:100;width:100%;text-align:right;}</style><span class=\"css-1hc4lz9\"></span></p></div><style data-emotion=\"css krg4hw\">.css-krg4hw{display:-webkit-box;display:-webkit-flex;display:-ms-flexbox;display:flex;-webkit-box-pack:justify;-webkit-justify-content:space-between;justify-content:space-between;}</style><div class=\"css-krg4hw\"><span><style data-emotion=\"css 1mj6gak\">.css-1mj6gak{background:#F2F4F5;font-weight:400;margin:4px 0 6px 0;display:-webkit-inline-box;display:-webkit-inline-flex;display:-ms-inline-flexbox;display:inline-flex;border-radius:4px;padding:6px 6px;}</style><style data-emotion=\"css 1vwcn1d\">.css-1vwcn1d{font-size:14px;line-height:18px;margin-block-end:unset;margin-block-start:unset;background:#F2F4F5;font-weight:400;margin:4px 0 6px 0;display:-webkit-inline-box;display:-webkit-inline-flex;display:-ms-inline-flexbox;display:inline-flex;border-radius:4px;padding:6px 6px;}</style><style data-emotion=\"css iudov9\">.css-iudov9{color:#02282C;font-family:Geomanist,sans-serif;font-weight:400;-webkit-text-decoration:none;text-decoration:none;font-size:14px;line-height:18px;margin-block-end:unset;margin-block-start:unset;background:#F2F4F5;font-weight:400;margin:4px 0 6px 0;display:-webkit-inline-box;display:-webkit-inline-flex;display:-ms-inline-flexbox;display:inline-flex;border-radius:4px;padding:6px 6px;}</style><span class=\"css-iudov9\" title=\"Вживане\"><span>Вживане</span></span></span></div><style data-emotion=\"css odp1qd\">.css-odp1qd{-webkit-box-flex:1;-webkit-flex-grow:1;-ms-flex-positive:1;flex-grow:1;-webkit-box-pack:end;-ms-flex-pack:end;-webkit-justify-content:flex-end;justify-content:flex-end;display:-webkit-box;display:-webkit-flex;display:-ms-flexbox;display:flex;-webkit-flex-direction:column;-ms-flex-direction:column;flex-direction:column;}</style><div class=\"css-odp1qd\"><style data-emotion=\"css 1e3x081\">.css-1e3x081{font-weight:100;color:#406367;}</style><style data-emotion=\"css 1984zq8\">.css-1984zq8{font-size:12px;line-height:14px;margin-block-end:unset;margin-block-start:unset;font-weight:100;color:#406367;}</style><style data-emotion=\"css vbz67q\">.css-vbz67q{color:#02282C;font-family:Geomanist,sans-serif;font-weight:400;-webkit-text-decoration:none;text-decoration:none;font-size:12px;line-height:14px;margin-block-end:unset;margin-block-start:unset;font-weight:100;color:#406367;}</style><p class=\"css-vbz67q\" data-testid=\"location-date\">Київ, Шевченківський - 17 червня 2025 р.</p><style data-emotion=\"css 1kfqt7f\">.css-1kfqt7f{-webkit-align-items:center;-webkit-box-align:center;-ms-flex-align:center;align-items:center;display:-webkit-box;display:-webkit-flex;display:-ms-flexbox;display:flex;margin-top:8px;}</style><div class=\"css-1kfqt7f\" color=\"text-global-secondary\"><style data-emotion=\"css 11fk53a\">.css-11fk53a{width:50%;display:grid;grid-template-columns:1fr 1fr;-webkit-align-items:baseline;-webkit-box-align:baseline;-ms-flex-align:baseline;align-items:baseline;}</style><span class=\"css-11fk53a\"></span></div></div><style data-emotion=\"css 1x8zoa0\">.css-1x8zoa0{-webkit-align-items:flex-start;-webkit-box-align:flex-start;-ms-flex-align:flex-start;align-items:flex-start;cursor:pointer;display:-webkit-box;display:-webkit-flex;display:-ms-flexbox;display:flex;position:absolute;right:0;bottom:0;}</style><span class=\"css-1x8zoa0\" data-testid=\"adAddToFavorites\"><style data-emotion=\"css 1vcfmyf\">.css-1vcfmyf{display:-webkit-box;display:-webkit-flex;display:-ms-flexbox;display:flex;-webkit-flex-direction:row-reverse;-ms-flex-direction:row-reverse;flex-direction:row-reverse;-webkit-align-items:center;-webkit-box-align:center;-ms-flex-align:center;align-items:center;}.css-1vcfmyf:hover >div[data-testid='favorite-icon']{opacity:1;}</style><div class=\"css-1vcfmyf\"><style data-emotion=\"css py8enh\">.css-py8enh{height:22px;width:22px;color:#02282C;}</style><svg class=\"css-py8enh\" height=\"1em\" viewbox=\"0 0 24 24\" width=\"1em\" xmlns=\"http://www.w3.org/2000/svg\"><path d=\"M20.219 10.367 12 20.419 3.806 10.4A3.96 3.96 0 0 1 3 8c0-2.206 1.795-4 4-4a4.004 4.004 0 0 1 3.868 3h2.264A4.003 4.003 0 0 1 17 4c2.206 0 4 1.794 4 4 0 .868-.279 1.698-.781 2.367M17 2a5.999 5.999 0 0 0-5 2.686A5.999 5.999 0 0 0 7 2C3.692 2 1 4.691 1 8a5.97 5.97 0 0 0 1.232 3.633L10.71 22h2.582l8.501-10.399A5.943 5.943 0 0 0 23 8c0-3.309-2.692-6-6-6\" fill=\"currentColor\" fill-rule=\"evenodd\"></path></svg><style data-emotion=\"css 185v2wv\">.css-185v2wv{width:100%;display:block;color:#02282C;font-size:14px;opacity:0;}</style><div class=\"css-185v2wv\" data-testid=\"favorite-icon\">Підписатися</div></div></span></div></div></div></div><div class=\"css-1sw7q4x\" data-cy=\"l-card\" data-testid=\"l-card\" data-visually-ready-trigger-element=\"true\" id=\"871874720\"><div class=\"css-1r93q13\"><div class=\"css-1g5933j\" type=\"list\"><div class=\"css-1ut25fa\" type=\"list\"><a class=\"css-1tqlkj0\" href=\"/d/uk/obyavlenie/rdksn-dityach-knizhki-z-vlasno-kolekts-IDX0iru.html\"><div class=\"css-x7ghln\" type=\"list\"><div class=\"css-gl6djm\"><img alt=\"Рідкісні дитячі книжки із власної колекції\" class=\"css-8wsg1m\" sizes=\"216px\" src=\"https://ireland.apollo.olxcdn.com:443/v1/files/qpilfgvo6vyk1-UA/image;s=216x152;q=50\" srcset=\"https://ireland.apollo.olxcdn.com:443/v1/files/qpilfgvo6vyk1-UA/image;s=150x113;q=50 150w, https://ireland.apollo.olxcdn.com:443/v1/files/qpilfgvo6vyk1-UA/image;s=200x150;q=50 200w, https://ireland.apollo.olxcdn.com:443/v1/files/qpilfgvo6vyk1-UA/image;s=270x203;q=50 300w, https://ireland.apollo.olxcdn.com:443/v1/files/qpilfgvo6vyk1-UA/image;s=360x270;q=50 400w, https://ireland.apollo.olxcdn.com:443/v1/files/qpilfgvo6vyk1-UA/image;s=510x383;q=50 600w\"/></div></div><div class=\"css-13aawz3\"><div class=\"css-1av34ht\"><div class=\"css-3xiokn\"><div class=\"css-10od1sw\" data-testid=\"card-delivery-badge\"><div class=\"css-14xvpcy\"><svg class=\"css-1c9plgj\" fill=\"none\" height=\"1em\" viewbox=\"0 0 24 24\" width=\"1em\" xmlns=\"http://www.w3.org/2000/svg\"><path clip-rule=\"evenodd\" d=\"m2 4 1-1h10l2 2h3.5L22 9.667V17l-1 1h-2a3 3 0 1 1-6 0h-3a3 3 0 1 1-6 0H3l-1-1V4Zm7.236 12h4.528c.55-.614 1.348-1 2.236-1 .889 0 1.687.386 2.236 1H20v-4h-6l-1-1V6l-1-1H4v11h.764c.55-.614 1.348-1 2.236-1 .888 0 1.687.386 2.236 1ZM15 18a1 1 0 1 0 2 0 1 1 0 0 0-2 0Zm4.75-8L17.5 7H15v3h4.75ZM8 18a1 1 0 1 1-2 0 1 1 0 0 1 2 0Z\" fill=\"currentColor\" fill-rule=\"evenodd\"></path></svg></div></div></div></div></div></a></div><div class=\"css-1apmciz\" type=\"list\"><div class=\"css-u2ayx9\" data-cy=\"ad-card-title\"><a class=\"css-1tqlkj0\" href=\"/d/uk/obyavlenie/rdksn-dityach-knizhki-z-vlasno-kolekts-IDX0iru.html\"><h4 class=\"css-1g61gc2\">Рідкісні дитячі книжки із власної колекції</h4></a><p class=\"css-uj7mm0\" data-testid=\"ad-price\">100 грн.<span class=\"css-1hc4lz9\"></span></p></div><div class=\"css-krg4hw\"><span><span class=\"css-iudov9\" title=\"Вживане\"><span>Вживане</span></span></span></div><div class=\"css-odp1qd\"><p class=\"css-vbz67q\" data-testid=\"location-date\">Одеса, Приморський - 25 червня 2025 р.</p><div class=\"css-1kfqt7f\" color=\"text-global-secondary\"><span class=\"css-11fk53a\"></span></div></div><span class=\"css-1x8zoa0\" data-testid=\"adAddToFavorites\"><div class=\"css-1vcfmyf\"><svg class=\"css-py8enh\" height=\"1em\" viewbox=\"0 0 24 24\" width=\"1em\" xmlns=\"http://www.w3.org/2000/svg\"><path d=\"M20.219 10.367 12 20.419 3.806 10.4A3.96 3.96 0 0 1 3 8c0-2.206 1.795-4 4-4a4.004 4.004 0 0 1 3.868 3h2.264A4.003 4.003 0 0 1 17 4c2.206 0 4 1.794 4 4 0 .868-.279 1.698-.781 2.367M17 2a5.999 5.999 0 0 0-5 2.686A5.999 5.999 0 0 0 7 2C3.692 2 1 4.691 1 8a5.97 5.97 0 0 0 1.232 3.633L10.71 22h2.582l8.501-10.399A5.943 5.943 0 0 0 23 8c0-3.309-2.692-6-6-6\" fill=\"currentColor\" fill-rule=\"evenodd\"></path></svg><div class=\"css-185v2wv\" data-testid=\"favorite-icon\">Підписатися</div></div></span></div></div></div></div><div class=\"css-1sw7q4x\" data-cy=\"l-card\" data-testid=\"l-card\" data-visually-ready-trigger-element=\"true\" id=\"878765111\"><div class=\"css-1r93q13\"><div class=\"css-1g5933j\" type=\"list\"><div class=\"css-1ut25fa\" type=\"list\"><a class=\"css-1tqlkj0\" href=\"/d/uk/obyavlenie/kazki-narodv-svtu-volkov-permyak-nosov-chukovskiy-oster-i-dr-IDXtcVP.html\"><div class=\"css-x7ghln\" type=\"list\"><div class=\"css-gl6djm\"><img alt=\"Казки народів світу. Волков. Пермяк, Носов. Чуковский. Остер и др.\" class=\"css-8wsg1m\" sizes=\"216px\" src=\"https://ireland.apollo.olxcdn.com:443/v1/files/le0os7okjzpn-UA/image;s=216x152;q=50\" srcset=\"https://ireland.apollo.olxcdn.com:443/v1/files/le0os7okjzpn-UA/image;s=150x113;q=50 150w, https://ireland.apollo.olxcdn.com:443/v1/files/le0os7okjzpn-UA/image;s=200x150;q=50 200w, https://ireland.apollo.olxcdn.com:443/v1/files/le0os7okjzpn-UA/image;s=270x203;q=50 300w, https://ireland.apollo.olxcdn.com:443/v1/files/le0os7okjzpn-UA/image;s=360x270;q=50 400w, https://ireland.apollo.olxcdn.com:443/v1/files/le0os7okjzpn-UA/image;s=510x383;q=50 600w\"/></div></div><div class=\"css-13aawz3\"><div class=\"css-1av34ht\"><div class=\"css-3xiokn\"><div class=\"css-10od1sw\" data-testid=\"card-delivery-badge\"><div class=\"css-14xvpcy\"><svg class=\"css-1c9plgj\" fill=\"none\" height=\"1em\" viewbox=\"0 0 24 24\" width=\"1em\" xmlns=\"http://www.w3.org/2000/svg\"><path clip-rule=\"evenodd\" d=\"m2 4 1-1h10l2 2h3.5L22 9.667V17l-1 1h-2a3 3 0 1 1-6 0h-3a3 3 0 1 1-6 0H3l-1-1V4Zm7.236 12h4.528c.55-.614 1.348-1 2.236-1 .889 0 1.687.386 2.236 1H20v-4h-6l-1-1V6l-1-1H4v11h.764c.55-.614 1.348-1 2.236-1 .888 0 1.687.386 2.236 1ZM15 18a1 1 0 1 0 2 0 1 1 0 0 0-2 0Zm4.75-8L17.5 7H15v3h4.75ZM8 18a1 1 0 1 1-2 0 1 1 0 0 1 2 0Z\" fill=\"currentColor\" fill-rule=\"evenodd\"></path></svg></div></div></div></div></div></a></div><div class=\"css-1apmciz\" type=\"list\"><div class=\"css-u2ayx9\" data-cy=\"ad-card-title\"><a class=\"css-1tqlkj0\" href=\"/d/uk/obyavlenie/kazki-narodv-svtu-volkov-permyak-nosov-chukovskiy-oster-i-dr-IDXtcVP.html\"><h4 class=\"css-1g61gc2\">Казки народів світу. Волков. Пермяк, Носов. Чуковский. Остер и др.</h4></a><p class=\"css-uj7mm0\" data-testid=\"ad-price\">150 грн.<span class=\"css-1hc4lz9\"></span></p></div><div class=\"css-krg4hw\"><span><span class=\"css-iudov9\" title=\"Вживане\"><span>Вживане</span></span></span></div><div class=\"css-odp1qd\"><p class=\"css-vbz67q\" data-testid=\"location-date\">Харків, Основ'янський - 17 червня 2025 р.</p><div class=\"css-1kfqt7f\" color=\"text-global-secondary\"><span class=\"css-11fk53a\"></span></div></div><span class=\"css-1x8zoa0\" data-testid=\"adAddToFavorites\"><div class=\"css-1vcfmyf\"><svg class=\"css-py8enh\" height=\"1em\" viewbox=\"0 0 24 24\" width=\"1em\" xmlns=\"http://www.w3.org/2000/svg\"><path d=\"M20.219 10.367 12 20.419 3.806 10.4A3.96 3.96 0 0 1 3 8c0-2.206 1.795-4 4-4a4.004 4.004 0 0 1 3.868 3h2.264A4.003 4.003 0 0 1 17 4c2.206 0 4 1.794 4 4 0 .868-.279 1.698-.781 2.367M17 2a5.999 5.999 0 0 0-5 2.686A5.999 5.999 0 0 0 7 2C3.692 2 1 4.691 1 8a5.97 5.97 0 0 0 1.232 3.633L10.71 22h2.582l8.501-10.399A5.943 5.943 0 0 0 23 8c0-3.309-2.692-6-6-6\" fill=\"currentColor\" fill-rule=\"evenodd\"></path></svg><div class=\"css-185v2wv\" data-testid=\"favorite-icon\">Підписатися</div></div></span></div></div></div></div><div class=\"\" data-testid=\"qa-advert-slot\" id=\"div-gpt-liting-after-promoted\"></div><div class=\"css-1sw7q4x\" data-cy=\"l-card\" data-testid=\"l-card\" data-visually-ready-trigger-element=\"true\" id=\"883751507\"><div class=\"css-1r93q13\"><div class=\"css-1g5933j\" type=\"list\"><div class=\"css-1ut25fa\" type=\"list\"><a class=\"css-1tqlkj0\" href=\"/d/uk/obyavlenie/4ch-dityach-knigi-kazki-pdruchniki-entsikloped-IDXO88z.html\"><div class=\"css-x7ghln\" type=\"list\"><div class=\"css-gl6djm\"><img alt=\"4ч Дитячі книги. Казки, підручники, енциклопедії\" class=\"css-8wsg1m\" sizes=\"216px\" src=\"https://ireland.apollo.olxcdn.com:443/v1/files/p9j4ztb4htgw1-UA/image;s=216x152;q=50\" srcset=\"https://ireland.apollo.olxcdn.com:443/v1/files/p9j4ztb4htgw1-UA/image;s=150x110;q=50 150w, https://ireland.apollo.olxcdn.com:443/v1/files/p9j4ztb4htgw1-UA/image;s=200x147;q=50 200w, https://ireland.apollo.olxcdn.com:443/v1/files/p9j4ztb4htgw1-UA/image;s=270x199;q=50 300w, https://ireland.apollo.olxcdn.com:443/v1/files/p9j4ztb4htgw1-UA/image;s=360x266;q=50 400w, https://ireland.apollo.olxcdn.com:443/v1/files/p9j4ztb4htgw1-UA/image;s=510x376;q=50 600w\"/></div></div><div class=\"css-13aawz3\"><div class=\"css-1av34ht\"><div class=\"css-3xiokn\"><div class=\"css-10od1sw\" data-testid=\"card-delivery-badge\"><div class=\"css-14xvpcy\"><svg class=\"css-1c9plgj\" fill=\"none\" height=\"1em\" viewbox=\"0 0 24 24\" width=\"1em\" xmlns=\"http://www.w3.org/2000/svg\"><path clip-rule=\"evenodd\" d=\"m2 4 1-1h10l2 2h3.5L22 9.667V17l-1 1h-2a3 3 0 1 1-6 0h-3a3 3 0 1 1-6 0H3l-1-1V4Zm7.236 12h4.528c.55-.614 1.348-1 2.236-1 .889 0 1.687.386 2.236 1H20v-4h-6l-1-1V6l-1-1H4v11h.764c.55-.614 1.348-1 2.236-1 .888 0 1.687.386 2.236 1ZM15 18a1 1 0 1 0 2 0 1 1 0 0 0-2 0Zm4.75-8L17.5 7H15v3h4.75ZM8 18a1 1 0 1 1-2 0 1 1 0 0 1 2 0Z\" fill=\"currentColor\" fill-rule=\"evenodd\"></path></svg></div></div></div></div></div></a></div><div class=\"css-1apmciz\" type=\"list\"><div class=\"css-u2ayx9\" data-cy=\"ad-card-title\"><a class=\"css-1tqlkj0\" href=\"/d/uk/obyavlenie/4ch-dityach-knigi-kazki-pdruchniki-entsikloped-IDXO88z.html\"><h4 class=\"css-1g61gc2\">4ч Дитячі книги. Казки, підручники, енциклопедії</h4></a><p class=\"css-uj7mm0\" data-testid=\"ad-price\">80 грн.<span class=\"css-1hc4lz9\"></span></p></div><div class=\"css-krg4hw\"><span><span class=\"css-iudov9\" title=\"Вживане\"><span>Вживане</span></span></span></div><div class=\"css-odp1qd\"><p class=\"css-vbz67q\" data-testid=\"location-date\">Суми - 06 червня 2025 р.</p><div class=\"css-1kfqt7f\" color=\"text-global-secondary\"><span class=\"css-11fk53a\"></span></div></div><span class=\"css-1x8zoa0\" data-testid=\"adAddToFavorites\"><div class=\"css-1vcfmyf\"><svg class=\"css-py8enh\" height=\"1em\" viewbox=\"0 0 24 24\" width=\"1em\" xmlns=\"http://www.w3.org/2000/svg\"><path d=\"M20.219 10.367 12 20.419 3.806 10.4A3.96 3.96 0 0 1 3 8c0-2.206 1.795-4 4-4a4.004 4.004 0 0 1 3.868 3h2.264A4.003 4.003 0 0 1 17 4c2.206 0 4 1.794 4 4 0 .868-.279 1.698-.781 2.367M17 2a5.999 5.999 0 0 0-5 2.686A5.999 5.999 0 0 0 7 2C3.692 2 1 4.691 1 8a5.97 5.97 0 0 0 1.232 3.633L10.71 22h2.582l8.501-10.399A5.943 5.943 0 0 0 23 8c0-3.309-2.692-6-6-6\" fill=\"currentColor\" fill-rule=\"evenodd\"></path></svg><div class=\"css-185v2wv\" data-testid=\"favorite-icon\">Підписатися</div></div></span></div></div></div></div><div class=\"css-1sw7q4x\" data-cy=\"l-card\" data-testid=\"l-card\" data-visually-ready-trigger-element=\"true\" id=\"852823682\"><div class=\"css-1r93q13\"><div class=\"css-1g5933j\" type=\"list\"><div class=\"css-1ut25fa\" type=\"list\"><a class=\"css-1tqlkj0\" href=\"/d/uk/obyavlenie/knigi-z-stor-hudozhnya-lteratura-IDWImoG.html\"><div class=\"css-x7ghln\" type=\"list\"><div class=\"css-gl6djm\"><img alt=\"Книги з історії, художня література\" class=\"css-8wsg1m\" sizes=\"216px\" src=\"https://ireland.apollo.olxcdn.com:443/v1/files/exr3cassiikf-UA/image;s=216x152;q=50\" srcset=\"https://ireland.apollo.olxcdn.com:443/v1/files/exr3cassiikf-UA/image;s=150x106;q=50 150w, https://ireland.apollo.olxcdn.com:443/v1/files/exr3cassiikf-UA/image;s=200x141;q=50 200w, https://ireland.apollo.olxcdn.com:443/v1/files/exr3cassiikf-UA/image;s=270x191;q=50 300w, https://ireland.apollo.olxcdn.com:443/v1/files/exr3cassiikf-UA/image;s=360x255;q=50 400w, https://ireland.apollo.olxcdn.com:443/v1/files/exr3cassiikf-UA/image;s=510x360;q=50 600w\"/></div></div><div class=\"css-13aawz3\"><div class=\"css-1av34ht\"><div class=\"css-3xiokn\"><div class=\"css-10od1sw\" data-testid=\"card-delivery-badge\"><div class=\"css-14xvpcy\"><svg class=\"css-1c9plgj\" fill=\"none\" height=\"1em\" viewbox=\"0 0 24 24\" width=\"1em\" xmlns=\"http://www.w3.org/2000/svg\"><path clip-rule=\"evenodd\" d=\"m2 4 1-1h10l2 2h3.5L22 9.667V17l-1 1h-2a3 3 0 1 1-6 0h-3a3 3 0 1 1-6 0H3l-1-1V4Zm7.236 12h4.528c.55-.614 1.348-1 2.236-1 .889 0 1.687.386 2.236 1H20v-4h-6l-1-1V6l-1-1H4v11h.764c.55-.614 1.348-1 2.236-1 .888 0 1.687.386 2.236 1ZM15 18a1 1 0 1 0 2 0 1 1 0 0 0-2 0Zm4.75-8L17.5 7H15v3h4.75ZM8 18a1 1 0 1 1-2 0 1 1 0 0 1 2 0Z\" fill=\"currentColor\" fill-rule=\"evenodd\"></path></svg></div></div></div></div></div></a></div><div class=\"css-1apmciz\" type=\"list\"><div class=\"css-u2ayx9\" data-cy=\"ad-card-title\"><a class=\"css-1tqlkj0\" href=\"/d/uk/obyavlenie/knigi-z-stor-hudozhnya-lteratura-IDWImoG.html\"><h4 class=\"css-1g61gc2\">Книги з історії, художня література</h4></a><p class=\"css-uj7mm0\" data-testid=\"ad-price\">120 грн.<span class=\"css-1hc4lz9\"></span></p></div><div class=\"css-krg4hw\"><span><span class=\"css-iudov9\" title=\"Вживане\"><span>Вживане</span></span></span></div><div class=\"css-odp1qd\"><p class=\"css-vbz67q\" data-testid=\"location-date\">Теплодар - 08 червня 2025 р.</p><div class=\"css-1kfqt7f\" color=\"text-global-secondary\"><span class=\"css-11fk53a\"></span></div></div><span class=\"css-1x8zoa0\" data-testid=\"adAddToFavorites\"><div class=\"css-1vcfmyf\"><svg class=\"css-py8enh\" height=\"1em\" viewbox=\"0 0 24 24\" width=\"1em\" xmlns=\"http://www.w3.org/2000/svg\"><path d=\"M20.219 10.367 12 20.419 3.806 10.4A3.96 3.96 0 0 1 3 8c0-2.206 1.795-4 4-4a4.004 4.004 0 0 1 3.868 3h2.264A4.003 4.003 0 0 1 17 4c2.206 0 4 1.794 4 4 0 .868-.279 1.698-.781 2.367M17 2a5.999 5.999 0 0 0-5 2.686A5.999 5.999 0 0 0 7 2C3.692 2 1 4.691 1 8a5.97 5.97 0 0 0 1.232 3.633L10.71 22h2.582l8.501-10.399A5.943 5.943 0 0 0 23 8c0-3.309-2.692-6-6-6\" fill=\"currentColor\" fill-rule=\"evenodd\"></path></svg><div class=\"css-185v2wv\" data-testid=\"favorite-icon\">Підписатися</div></div></span></div></div></div></div><div class=\"css-1sw7q4x\" data-cy=\"l-card\" data-testid=\"l-card\" data-visually-ready-trigger-element=\"true\" id=\"809584837\"><div class=\"css-1r93q13\"><div class=\"css-1g5933j\" type=\"list\"><div class=\"css-1ut25fa\" type=\"list\"><a class=\"css-1tqlkj0\" href=\"/d/uk/obyavlenie/opovdannya-psenki-kazochki-ta-vrshiki-kartki-dlya-novonarodzhenih-IDSMWZX.html\"><div class=\"css-x7ghln\" type=\"list\"><div class=\"css-gl6djm\"><img class=\"css-8wsg1m\" src=\"/app/static/media/no_thumbnail.15f456ec5.svg\"/></div></div><div class=\"css-13aawz3\"><div class=\"css-1av34ht\"><div class=\"css-3xiokn\"><div class=\"css-10od1sw\" data-testid=\"card-delivery-badge\"><div class=\"css-14xvpcy\"><svg class=\"css-1c9plgj\" fill=\"none\" height=\"1em\" viewbox=\"0 0 24 24\" width=\"1em\" xmlns=\"http://www.w3.org/2000/svg\"><path clip-rule=\"evenodd\" d=\"m2 4 1-1h10l2 2h3.5L22 9.667V17l-1 1h-2a3 3 0 1 1-6 0h-3a3 3 0 1 1-6 0H3l-1-1V4Zm7.236 12h4.528c.55-.614 1.348-1 2.236-1 .889 0 1.687.386 2.236 1H20v-4h-6l-1-1V6l-1-1H4v11h.764c.55-.614 1.348-1 2.236-1 .888 0 1.687.386 2.236 1ZM15 18a1 1 0 1 0 2 0 1 1 0 0 0-2 0Zm4.75-8L17.5 7H15v3h4.75ZM8 18a1 1 0 1 1-2 0 1 1 0 0 1 2 0Z\" fill=\"currentColor\" fill-rule=\"evenodd\"></path></svg></div></div></div></div></div></a></div><div class=\"css-1apmciz\" type=\"list\"><div class=\"css-u2ayx9\" data-cy=\"ad-card-title\"><a class=\"css-1tqlkj0\" href=\"/d/uk/obyavlenie/opovdannya-psenki-kazochki-ta-vrshiki-kartki-dlya-novonarodzhenih-IDSMWZX.html\"><h4 class=\"css-1g61gc2\">Оповідання, пісеньки, казочки та віршики. Картки для новонароджених.</h4></a><p class=\"css-uj7mm0\" data-testid=\"ad-price\">80 грн.<span class=\"css-1hc4lz9\"></span></p></div><div class=\"css-krg4hw\"><span><span class=\"css-iudov9\" title=\"Вживане\"><span>Вживане</span></span></span></div><div class=\"css-odp1qd\"><p class=\"css-vbz67q\" data-testid=\"location-date\">Біла Церква - 10 червня 2025 р.</p><div class=\"css-1kfqt7f\" color=\"text-global-secondary\"><span class=\"css-11fk53a\"></span></div></div><span class=\"css-1x8zoa0\" data-testid=\"adAddToFavorites\"><div class=\"css-1vcfmyf\"><svg class=\"css-py8enh\" height=\"1em\" viewbox=\"0 0 24 24\" width=\"1em\" xmlns=\"http://www.w3.org/2000/svg\"><path d=\"M20.219 10.367 12 20.419 3.806 10.4A3.96 3.96 0 0 1 3 8c0-2.206 1.795-4 4-4a4.004 4.004 0 0 1 3.868 3h2.264A4.003 4.003 0 0 1 17 4c2.206 0 4 1.794 4 4 0 .868-.279 1.698-.781 2.367M17 2a5.999 5.999 0 0 0-5 2.686A5.999 5.999 0 0 0 7 2C3.692 2 1 4.691 1 8a5.97 5.97 0 0 0 1.232 3.633L10.71 22h2.582l8.501-10.399A5.943 5.943 0 0 0 23 8c0-3.309-2.692-6-6-6\" fill=\"currentColor\" fill-rule=\"evenodd\"></path></svg><div class=\"css-185v2wv\" data-testid=\"favorite-icon\">Підписатися</div></div></span></div></div></div></div><div class=\"\" data-testid=\"qa-advert-slot\" id=\"div_gpt_listing_content1\"></div><div class=\"\" data-testid=\"qa-advert-slot\" id=\"div_gpt_listing_content2\"></div><div class=\"\" data-testid=\"qa-advert-slot\" id=\"div_gpt_listing_content3\"></div><div class=\"\" data-testid=\"qa-advert-slot\" id=\"baxter-afs-1-result\"></div></div>]"
      ]
     },
     "execution_count": 73,
     "metadata": {},
     "output_type": "execute_result"
    }
   ],
   "source": [
    "offers"
   ]
  },
  {
   "cell_type": "code",
   "execution_count": 29,
   "id": "bdfe8a55-7733-4d79-8bd2-18795a5fe65e",
   "metadata": {},
   "outputs": [],
   "source": [
    "offers1 = valid_offers[0]"
   ]
  },
  {
   "cell_type": "code",
   "execution_count": 31,
   "id": "bc38c2ce-5c3d-4226-8be6-d7be543ab546",
   "metadata": {},
   "outputs": [
    {
     "data": {
      "text/plain": [
       "13"
      ]
     },
     "execution_count": 31,
     "metadata": {},
     "output_type": "execute_result"
    }
   ],
   "source": [
    "len(offers1)"
   ]
  },
  {
   "cell_type": "code",
   "execution_count": 33,
   "id": "83481971-1226-4713-a679-bdbcbbe20030",
   "metadata": {},
   "outputs": [
    {
     "data": {
      "text/plain": [
       "<h4 class=\"css-1g61gc2\">Б. Чалий Сто пригод Барвінка і Ромашки 1976</h4>"
      ]
     },
     "execution_count": 33,
     "metadata": {},
     "output_type": "execute_result"
    }
   ],
   "source": [
    "offers1.select_one('h4')"
   ]
  },
  {
   "cell_type": "code",
   "execution_count": 45,
   "id": "fc36f823-008c-4728-a26d-4861cf845dc5",
   "metadata": {},
   "outputs": [
    {
     "data": {
      "text/plain": [
       "[<h4 class=\"css-1g61gc2\">Б. Чалий Сто пригод Барвінка і Ромашки 1976</h4>,\n",
       " <h4 class=\"css-1g61gc2\">Рідкісні дитячі книжки із власної колекції</h4>,\n",
       " <h4 class=\"css-1g61gc2\">Казки народів світу. Волков. Пермяк, Носов. Чуковский. Остер и др.</h4>,\n",
       " <h4 class=\"css-1g61gc2\">4ч Дитячі книги. Казки, підручники, енциклопедії</h4>,\n",
       " <h4 class=\"css-1g61gc2\">Книги з історії, художня література</h4>,\n",
       " <h4 class=\"css-1g61gc2\">Оповідання, пісеньки, казочки та віршики. Картки для новонароджених.</h4>]"
      ]
     },
     "execution_count": 45,
     "metadata": {},
     "output_type": "execute_result"
    }
   ],
   "source": [
    "offers1.find_all('h4')"
   ]
  },
  {
   "cell_type": "code",
   "execution_count": 51,
   "id": "c6e31fb2-f74c-4903-976c-5ad9ec712dd8",
   "metadata": {},
   "outputs": [
    {
     "name": "stdout",
     "output_type": "stream",
     "text": [
      "{'id': 'div-gpt-ad-listing-sponsored-ad-first', 'class': [], 'data-testid': 'qa-advert-slot'}\n",
      "{'data-emotion': 'css 1sw7q4x'}\n",
      "{'data-cy': 'l-card', 'data-testid': 'l-card', 'data-visually-ready-trigger-element': 'true', 'id': '847082304', 'class': ['css-1sw7q4x']}\n",
      "{'data-cy': 'l-card', 'data-testid': 'l-card', 'data-visually-ready-trigger-element': 'true', 'id': '871874720', 'class': ['css-1sw7q4x']}\n",
      "{'data-cy': 'l-card', 'data-testid': 'l-card', 'data-visually-ready-trigger-element': 'true', 'id': '878765111', 'class': ['css-1sw7q4x']}\n",
      "{'id': 'div-gpt-liting-after-promoted', 'class': [], 'data-testid': 'qa-advert-slot'}\n",
      "{'data-cy': 'l-card', 'data-testid': 'l-card', 'data-visually-ready-trigger-element': 'true', 'id': '883751507', 'class': ['css-1sw7q4x']}\n",
      "{'data-cy': 'l-card', 'data-testid': 'l-card', 'data-visually-ready-trigger-element': 'true', 'id': '852823682', 'class': ['css-1sw7q4x']}\n",
      "{'data-cy': 'l-card', 'data-testid': 'l-card', 'data-visually-ready-trigger-element': 'true', 'id': '809584837', 'class': ['css-1sw7q4x']}\n",
      "{'id': 'div_gpt_listing_content1', 'class': [], 'data-testid': 'qa-advert-slot'}\n",
      "{'id': 'div_gpt_listing_content2', 'class': [], 'data-testid': 'qa-advert-slot'}\n",
      "{'id': 'div_gpt_listing_content3', 'class': [], 'data-testid': 'qa-advert-slot'}\n",
      "{'id': 'baxter-afs-1-result', 'class': [], 'data-testid': 'qa-advert-slot'}\n"
     ]
    }
   ],
   "source": [
    "for item in offers[0]:\n",
    "    print(item.attrs)"
   ]
  },
  {
   "cell_type": "code",
   "execution_count": null,
   "id": "10e18678-b0ab-4660-ac59-2de08234f97c",
   "metadata": {},
   "outputs": [],
   "source": []
  }
 ],
 "metadata": {
  "kernelspec": {
   "display_name": "Python 3 (ipykernel)",
   "language": "python",
   "name": "python3"
  },
  "language_info": {
   "codemirror_mode": {
    "name": "ipython",
    "version": 3
   },
   "file_extension": ".py",
   "mimetype": "text/x-python",
   "name": "python",
   "nbconvert_exporter": "python",
   "pygments_lexer": "ipython3",
   "version": "3.12.4"
  }
 },
 "nbformat": 4,
 "nbformat_minor": 5
}
